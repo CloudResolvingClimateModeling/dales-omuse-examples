{
 "cells": [
  {
   "cell_type": "markdown",
   "metadata": {},
   "source": [
    "# Dales Omuse interface basics"
   ]
  },
  {
   "cell_type": "markdown",
   "metadata": {},
   "source": [
    "## Imports"
   ]
  },
  {
   "cell_type": "code",
   "execution_count": null,
   "metadata": {},
   "outputs": [],
   "source": [
    "import numpy \n",
    "from omuse.units import units\n",
    "from omuse.community.dales.interface import Dales\n",
    "import matplotlib\n",
    "import matplotlib.pyplot as plt\n",
    "import os\n"
   ]
  },
  {
   "cell_type": "markdown",
   "metadata": {},
   "source": [
    "## Initialization"
   ]
  },
  {
   "cell_type": "code",
   "execution_count": null,
   "metadata": {},
   "outputs": [],
   "source": [
    "# create a dales object\n",
    "\n",
    "d=Dales(redirection='none')\n",
    "\n",
    "# alternative for redirecting Dales output to files\n",
    "#d=Dales(redirection='file', redirect_stdout_file='dales.out', redirect_stderr_file='dales.err')\n",
    "\n",
    "# Set parameters\n",
    "d.parameters_DOMAIN.itot = 32  # number of grid cells in x\n",
    "d.parameters_DOMAIN.jtot = 32  # number of grid cells in y\n",
    "d.parameters_DOMAIN.xsize = 6400 | units.m\n",
    "d.parameters_DOMAIN.ysize = 6400 | units.m\n",
    "\n",
    "d.parameters_RUN.ladaptive = True\n",
    "# d.parameters_RUN.nsv = 2  # number of scalar variables - needed for microphysics\n",
    "\n",
    "\n",
    "# Select advection schemes\n",
    "d.parameters_DYNAMICS.iadv_mom = 62\n",
    "d.parameters_DYNAMICS.iadv_thl = 52\n",
    "d.parameters_DYNAMICS.iadv_qt = 52\n",
    "d.parameters_DYNAMICS.iadv_tke = 52\n",
    "d.parameters_DYNAMICS.iadv_sv = [52,52]\n",
    "\n",
    "# d.parameters_NAMMICROPHYSICS.imicro=6\n"
   ]
  },
  {
   "cell_type": "markdown",
   "metadata": {},
   "source": [
    "# Nudging towards given profiles"
   ]
  },
  {
   "cell_type": "code",
   "execution_count": null,
   "metadata": {},
   "outputs": [],
   "source": [
    "# temporary - to get the model in a state where we can set nudging profiles\n",
    "d.evolve_model(1 | units.s)\n",
    "\n",
    "# create a profile\n",
    "kmax = d.parameters_DOMAIN.kmax\n",
    "QTn = numpy.ones(kmax) * 0.005 | units.mfu\n",
    "QTn[5:15] *= 1.5\n",
    "d.nudge.QT = QTn\n",
    "\n",
    "# note, some ways of setting the target profile do NOT work currently\n",
    "# d.nudge.QT[5] = 0.005 | units.mfu  # does not work\n",
    "# maybe one has to assign to the whole grid, not just elements ??\n",
    "\n",
    "\n",
    "# set time scale of nudging\n",
    "d.set_nudge_time_QT(600 | units.s)\n",
    "\n",
    "print(d.nudge.QT)\n",
    "\n"
   ]
  },
  {
   "cell_type": "code",
   "execution_count": null,
   "metadata": {},
   "outputs": [],
   "source": [
    "# plot profiles - before time step\n",
    "plt.plot(d.grid.QT[2,2,:].value_in(units.shu))\n",
    "plt.plot(d.profile_grid.QT[:].value_in(units.shu))\n",
    "plt.ylim((0.,0.01))"
   ]
  },
  {
   "cell_type": "code",
   "execution_count": null,
   "metadata": {},
   "outputs": [],
   "source": [
    "# time stepping\n",
    "d.evolve_model(300 | units.s)"
   ]
  },
  {
   "cell_type": "code",
   "execution_count": null,
   "metadata": {},
   "outputs": [],
   "source": [
    "# plot profiles - after time stepping\n",
    "plt.plot(d.grid.QT[2,2,:].value_in(units.shu))\n",
    "plt.plot(d.profile_grid.QT[:].value_in(units.shu))\n",
    "plt.ylim((0.,0.01))"
   ]
  },
  {
   "cell_type": "code",
   "execution_count": null,
   "metadata": {},
   "outputs": [],
   "source": [
    "# get an xz crossection\n",
    "crossection = d.grid.THL[:,1,:].value_in(units.K) \n",
    "plt.imshow(crossection.T, origin='lower')\n",
    "plt.colorbar()\n",
    "\n",
    "plt.figure()\n",
    "crossection = d.grid.QT[:,1,:].value_in(units.shu) \n",
    "plt.imshow(crossection.T, origin='lower')\n",
    "plt.colorbar()"
   ]
  }
 ],
 "metadata": {
  "kernelspec": {
   "display_name": "Python 2",
   "language": "python",
   "name": "python2"
  },
  "language_info": {
   "codemirror_mode": {
    "name": "ipython",
    "version": 2
   },
   "file_extension": ".py",
   "mimetype": "text/x-python",
   "name": "python",
   "nbconvert_exporter": "python",
   "pygments_lexer": "ipython2",
   "version": "2.7.15"
  }
 },
 "nbformat": 4,
 "nbformat_minor": 2
}
