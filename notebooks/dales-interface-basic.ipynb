{
 "cells": [
  {
   "cell_type": "markdown",
   "metadata": {},
   "source": [
    "# Dales Omuse interface basics"
   ]
  },
  {
   "cell_type": "markdown",
   "metadata": {},
   "source": [
    "## Imports"
   ]
  },
  {
   "cell_type": "code",
   "execution_count": null,
   "metadata": {},
   "outputs": [],
   "source": [
    "import numpy \n",
    "from omuse.units import units\n",
    "from omuse.community.dales.interface import Dales\n",
    "import matplotlib\n",
    "import matplotlib.pyplot as plt\n",
    "import os\n"
   ]
  },
  {
   "cell_type": "markdown",
   "metadata": {},
   "source": [
    "## Initialization"
   ]
  },
  {
   "cell_type": "code",
   "execution_count": null,
   "metadata": {},
   "outputs": [],
   "source": [
    "# create a dales object\n",
    "d=Dales(redirect='none')\n",
    "\n",
    "# Set parameters\n",
    "d.parameters_DOMAIN.itot = 32  # number of grid cells in x\n",
    "d.parameters_DOMAIN.jtot = 32  # number of grid cells in y\n",
    "d.parameters_DOMAIN.xsize = 6400 | units.m\n",
    "d.parameters_DOMAIN.ysize = 6400 | units.m\n",
    "\n",
    "d.parameters_RUN.ladaptive = True\n",
    "#d.parameters_RUN.nsv = 2  # number of scalar variables - needed for microphysics\n",
    "\n",
    "\n",
    "# Select advection schemes\n",
    "d.parameters_DYNAMICS.iadv_mom = 62\n",
    "d.parameters_DYNAMICS.iadv_thl = 52\n",
    "d.parameters_DYNAMICS.iadv_qt = 52\n",
    "d.parameters_DYNAMICS.iadv_tke = 52\n",
    "d.parameters_DYNAMICS.iadv_sv = [52,52]\n",
    "\n",
    "# d.parameters_NAMMICROPHYSICS.imicro=6\n"
   ]
  },
  {
   "cell_type": "markdown",
   "metadata": {},
   "source": [
    "## Time stepping"
   ]
  },
  {
   "cell_type": "code",
   "execution_count": null,
   "metadata": {},
   "outputs": [],
   "source": [
    "d.evolve_model(1 | units.s)"
   ]
  },
  {
   "cell_type": "markdown",
   "metadata": {},
   "source": [
    "## Accessing data\n",
    "\n",
    "`d.grid` contains 3D prognostic variables: (E12, QL, QT, T, THL, U, V, W, x, y, z). They are accessed as numpy arrays, \n",
    "`d.grid.THL[x,y,z]`. \n",
    "The grids contain quantities with units. To plot, use e.g.  `d.grid.THL[:,1,:].value_in(unist.K)`\n",
    "\n",
    "### Summary of grids\n",
    "``` \n",
    "grid            3D  model variables        R/W     U, V, W, THL, QT, QL, E12, T          x,y,z\n",
    "profile_grid    hor. avg model variables   R       U, V, W, THL, QT, QL, QL_ice, E12, T  z\n",
    "forcings        vertical forcing profiles  W       tendency_U, tendency_V, tendency_THL, tendency_QT    z     \n",
    "surface         surface scalars            R/W     rain, pressure       \n",
    "surface_field   surface fields             R       LWP TWP RWP   x,y\n",
    "```"
   ]
  },
  {
   "cell_type": "code",
   "execution_count": null,
   "metadata": {},
   "outputs": [],
   "source": [
    "# get an xz crossection\n",
    "crossection = d.grid.THL[:,1,:].value_in(units.K) \n",
    "plt.imshow(crossection.T, origin='lower')\n",
    "plt.colorbar()\n",
    "\n",
    "plt.figure()\n",
    "crossection = d.grid.QT[:,1,:].value_in(units.shu) \n",
    "plt.imshow(crossection.T, origin='lower')\n",
    "plt.colorbar()"
   ]
  },
  {
   "cell_type": "code",
   "execution_count": null,
   "metadata": {},
   "outputs": [],
   "source": [
    "# profiles\n",
    "plt.plot(d.grid.QT[2,2,:].value_in(units.shu))\n",
    "plt.plot(d.profile_grid.QT[:].value_in(units.shu))\n",
    "plt.ylim((0.0049,0.0051))"
   ]
  },
  {
   "cell_type": "markdown",
   "metadata": {},
   "source": [
    "## Methods for online documentation"
   ]
  },
  {
   "cell_type": "markdown",
   "metadata": {},
   "source": [
    "### Functions"
   ]
  },
  {
   "cell_type": "code",
   "execution_count": null,
   "metadata": {},
   "outputs": [],
   "source": [
    "help(d)"
   ]
  },
  {
   "cell_type": "markdown",
   "metadata": {},
   "source": [
    "### Parameters"
   ]
  },
  {
   "cell_type": "code",
   "execution_count": null,
   "metadata": {},
   "outputs": [],
   "source": [
    "help(d.parameters_RUN)"
   ]
  },
  {
   "cell_type": "code",
   "execution_count": null,
   "metadata": {},
   "outputs": [],
   "source": []
  }
 ],
 "metadata": {
  "kernelspec": {
   "display_name": "Python 2",
   "language": "python",
   "name": "python2"
  },
  "language_info": {
   "codemirror_mode": {
    "name": "ipython",
    "version": 2
   },
   "file_extension": ".py",
   "mimetype": "text/x-python",
   "name": "python",
   "nbconvert_exporter": "python",
   "pygments_lexer": "ipython2",
   "version": "2.7.5"
  }
 },
 "nbformat": 4,
 "nbformat_minor": 2
}
